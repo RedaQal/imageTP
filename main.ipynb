{
 "cells": [
  {
   "cell_type": "code",
   "execution_count": 21,
   "id": "ed88e087",
   "metadata": {},
   "outputs": [],
   "source": [
    "import cv2 as cv\n",
    "import numpy as np"
   ]
  },
  {
   "cell_type": "code",
   "execution_count": 22,
   "id": "3406e505",
   "metadata": {},
   "outputs": [],
   "source": [
    "img = cv.imread(\"./catImage.jpg\")"
   ]
  },
  {
   "cell_type": "code",
   "execution_count": 23,
   "id": "d32e6c17",
   "metadata": {},
   "outputs": [
    {
     "data": {
      "text/plain": [
       "True"
      ]
     },
     "execution_count": 23,
     "metadata": {},
     "output_type": "execute_result"
    }
   ],
   "source": [
    "B = img[:, :, 0]\n",
    "G = img[:, :, 1]\n",
    "R = img[:, :, 2]\n",
    "\n",
    "gray = 0.114 * B + 0.587 * G + 0.299 * R\n",
    "\n",
    "gray_img = gray.astype(np.uint8)\n",
    "\n",
    "cv.imwrite('gray_image.jpg', gray_img)"
   ]
  },
  {
   "cell_type": "code",
   "execution_count": 24,
   "id": "f4b05624",
   "metadata": {},
   "outputs": [
    {
     "data": {
      "text/plain": [
       "True"
      ]
     },
     "execution_count": 24,
     "metadata": {},
     "output_type": "execute_result"
    }
   ],
   "source": [
    "scale = 2\n",
    "\n",
    "h, w = gray_img.shape[:2]\n",
    "\n",
    "compressed = gray_img[::scale, ::scale]\n",
    "\n",
    "cv.imwrite('compressed_image.jpg', compressed)"
   ]
  },
  {
   "cell_type": "code",
   "execution_count": 25,
   "id": "13ae8517",
   "metadata": {},
   "outputs": [
    {
     "data": {
      "text/plain": [
       "True"
      ]
     },
     "execution_count": 25,
     "metadata": {},
     "output_type": "execute_result"
    }
   ],
   "source": [
    "h, w = compressed.shape[:2]\n",
    "zoom_factor = 1.5\n",
    "\n",
    "# Step 1: Crop center of image\n",
    "crop_h = int(h / zoom_factor)\n",
    "crop_w = int(w / zoom_factor)\n",
    "start_y = (h - crop_h) // 2\n",
    "start_x = (w - crop_w) // 2\n",
    "cropped = compressed[start_y:start_y+crop_h, start_x:start_x+crop_w]\n",
    "\n",
    "# Step 2: Create empty zoomed image\n",
    "zoomed = np.zeros((h, w), dtype=np.uint8)\n",
    "\n",
    "# Step 3: Manually stretch (nearest-neighbor style)\n",
    "for i in range(h):\n",
    "    for j in range(w):\n",
    "        # Map back to cropped coords\n",
    "        src_y = int(i * crop_h / h)\n",
    "        src_x = int(j * crop_w / w)\n",
    "        zoomed[i, j] = cropped[src_y, src_x]\n",
    "# Save and show the result\n",
    "cv.imwrite('zoomed_image.jpg', zoomed)"
   ]
  }
 ],
 "metadata": {
  "kernelspec": {
   "display_name": "base",
   "language": "python",
   "name": "python3"
  },
  "language_info": {
   "codemirror_mode": {
    "name": "ipython",
    "version": 3
   },
   "file_extension": ".py",
   "mimetype": "text/x-python",
   "name": "python",
   "nbconvert_exporter": "python",
   "pygments_lexer": "ipython3",
   "version": "3.12.7"
  }
 },
 "nbformat": 4,
 "nbformat_minor": 5
}
